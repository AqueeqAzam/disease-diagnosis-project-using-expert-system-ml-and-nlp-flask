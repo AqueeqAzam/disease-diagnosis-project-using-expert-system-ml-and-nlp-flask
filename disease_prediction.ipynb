{
  "nbformat": 4,
  "nbformat_minor": 0,
  "metadata": {
    "colab": {
      "provenance": [],
      "authorship_tag": "ABX9TyMc+Pds+12qUjcVXMllH7+t",
      "include_colab_link": true
    },
    "kernelspec": {
      "name": "python3",
      "display_name": "Python 3"
    },
    "language_info": {
      "name": "python"
    }
  },
  "cells": [
    {
      "cell_type": "markdown",
      "metadata": {
        "id": "view-in-github",
        "colab_type": "text"
      },
      "source": [
        "<a href=\"https://colab.research.google.com/github/AqueeqAzam/disease-diagnosis-project-using-expert-system-ml-and-nlp-flask/blob/main/disease_prediction.ipynb\" target=\"_parent\"><img src=\"https://colab.research.google.com/assets/colab-badge.svg\" alt=\"Open In Colab\"/></a>"
      ]
    },
    {
      "cell_type": "markdown",
      "source": [
        "# `Disease Prediction using expert sytem, machine learning and nlp with flask server`"
      ],
      "metadata": {
        "id": "570K5Jabx7BW"
      }
    },
    {
      "cell_type": "markdown",
      "source": [
        "`load dataset`"
      ],
      "metadata": {
        "id": "dpXkC_hvTwIR"
      }
    },
    {
      "cell_type": "code",
      "source": [
        "import pandas as pd\n",
        "import numpy as np\n",
        "from sklearn.model_selection import train_test_split\n",
        "from sklearn.tree import DecisionTreeClassifier\n",
        "from sklearn.metrics import accuracy_score, classification_report\n",
        "\n",
        "# Define the number of rows\n",
        "n_rows = 10000\n",
        "\n",
        "# Define the columns\n",
        "columns = [\"Fever\", \"Cough\", \"Headache\", \"Fatigue\", \"Disease\"]\n",
        "\n",
        "# Ensure balanced classes\n",
        "diseases = [\"COVID-19\", \"Flu\", \"Common Cold\", \"Healthy\"]\n",
        "data = []\n",
        "for disease in diseases:\n",
        "    for _ in range(n_rows // len(diseases)):\n",
        "        data.append([\n",
        "            np.random.choice([1, 0]),  # Fever\n",
        "            np.random.choice([1, 0]),  # Cough\n",
        "            np.random.choice([1, 0]),  # Headache\n",
        "            np.random.choice([1, 0]),  # Fatigue\n",
        "            disease\n",
        "        ])\n",
        "\n",
        "# Create the DataFrame\n",
        "df = pd.DataFrame(data, columns=columns)\n",
        "\n",
        "# Shuffle the data\n",
        "df = df.sample(frac=1).reset_index(drop=True)\n",
        "\n",
        "# Save to CSV\n",
        "df.to_csv(\"medical.csv\", index=False)\n"
      ],
      "metadata": {
        "id": "IMNbpds5TrwM"
      },
      "execution_count": null,
      "outputs": []
    },
    {
      "cell_type": "markdown",
      "source": [
        "`Machine learning + Expert System`"
      ],
      "metadata": {
        "id": "gWeHypPnw1Ek"
      }
    },
    {
      "cell_type": "code",
      "source": [
        "import pandas as pd\n",
        "import numpy as np\n",
        "from sklearn.model_selection import train_test_split\n",
        "from sklearn.preprocessing import StandardScaler\n",
        "from sklearn.tree import DecisionTreeClassifier\n",
        "from sklearn.metrics import accuracy_score, classification_report\n",
        "\n",
        "# Define the number of rows\n",
        "n_rows = 10000\n",
        "\n",
        "# Define the columns\n",
        "columns = [\"Fever\", \"Cough\", \"Headache\", \"Fatigue\", \"Disease\"]\n",
        "\n",
        "# Ensure balanced classes\n",
        "diseases = [\"COVID-19\", \"Flu\", \"Common Cold\", \"Healthy\"]\n",
        "data = []\n",
        "for disease in diseases:\n",
        "    for _ in range(n_rows // len(diseases)):\n",
        "        data.append([\n",
        "            np.random.choice([1, 0]),  # Fever\n",
        "            np.random.choice([1, 0]),  # Cough\n",
        "            np.random.choice([1, 0]),  # Headache\n",
        "            np.random.choice([1, 0]),  # Fatigue\n",
        "            disease\n",
        "        ])\n",
        "\n",
        "# Create the DataFrame\n",
        "df = pd.DataFrame(data, columns=columns)\n",
        "\n",
        "# Shuffle the data\n",
        "df = df.sample(frac=1).reset_index(drop=True)\n",
        "\n",
        "# Save to CSV\n",
        "df.to_csv(\"medical.csv\", index=False)\n",
        "\n",
        "# Load the dataset\n",
        "df = pd.read_csv('medical.csv')\n",
        "\n",
        "# Split the dataset into features and target variable\n",
        "X = df.drop('Disease', axis=1)  # Features\n",
        "y = df['Disease']  # Target variable\n",
        "\n",
        "# Convert boolean features to integers\n",
        "X = X.astype(int)\n",
        "\n",
        "# Apply standard scaling to the features\n",
        "scaler = StandardScaler()\n",
        "X_scaled = scaler.fit_transform(X)\n",
        "\n",
        "# Split the data into training and testing sets\n",
        "X_train, X_test, y_train, y_test = train_test_split(X_scaled, y, test_size=0.3, random_state=42)\n",
        "\n",
        "# Initialize the Decision Tree Classifier\n",
        "clf = DecisionTreeClassifier()\n",
        "\n",
        "# Train the model\n",
        "clf.fit(X_train, y_train)\n",
        "\n",
        "# Make predictions on the test data\n",
        "y_pred = clf.predict(X_test)\n",
        "\n",
        "# Calculate the accuracy of the model\n",
        "accuracy = accuracy_score(y_test, y_pred)\n",
        "print(f'Accuracy: {accuracy * 100:.2f}%')\n",
        "\n",
        "# Generate a classification report\n",
        "report = classification_report(y_test, y_pred)\n",
        "print(report)\n",
        "\n",
        "def expert_system_rules(symptoms):\n",
        "    # Enhanced rules for better prediction\n",
        "    if symptoms['Fever'] == 1 and symptoms['Cough'] == 1:\n",
        "        return 'COVID-19'\n",
        "    elif symptoms['Cough'] == 1 and symptoms['Fatigue'] == 1:\n",
        "        return 'Flu'\n",
        "    elif symptoms['Cough'] == 1 and symptoms['Headache'] == 1:\n",
        "        return 'Common Cold'\n",
        "    else:\n",
        "        # Use the machine learning model for other predictions\n",
        "        symptoms_df = pd.DataFrame([symptoms])\n",
        "        symptoms_scaled = scaler.transform(symptoms_df)\n",
        "        return clf.predict(symptoms_scaled)[0]\n",
        "\n",
        "def get_symptoms_from_text(input_text):\n",
        "    # Initialize symptoms dictionary\n",
        "    symptoms = {'Fever': 0, 'Cough': 0, 'Headache': 0, 'Fatigue': 0}\n",
        "\n",
        "    # Convert input text to lowercase\n",
        "    input_text = input_text.lower()\n",
        "\n",
        "    # Check for presence of symptoms in input text\n",
        "    if 'fever' in input_text:\n",
        "        symptoms['Fever'] = 1\n",
        "    if 'cough' in input_text:\n",
        "        symptoms['Cough'] = 1\n",
        "    if 'headache' in input_text:\n",
        "        symptoms['Headache'] = 1\n",
        "    if 'fatigue' in input_text:\n",
        "        symptoms['Fatigue'] = 1\n",
        "\n",
        "    return symptoms\n",
        "\n",
        "def predict_disease(input_text):\n",
        "    symptoms = get_symptoms_from_text(input_text)\n",
        "    predicted_disease = expert_system_rules(symptoms)\n",
        "    return predicted_disease\n",
        "\n",
        "if __name__ == \"__main__\":\n",
        "    # Example user input\n",
        "    user_input = input(\"Enter your symptoms (e.g., 'I have fever and cough'): \")\n",
        "\n",
        "    # Predict disease based on user input\n",
        "    predicted_disease = predict_disease(user_input)\n",
        "    print(f'Predicted Disease: {predicted_disease}')\n"
      ],
      "metadata": {
        "colab": {
          "base_uri": "https://localhost:8080/"
        },
        "id": "e0JknFJGW09v",
        "outputId": "7bc5683e-20c9-4c9f-c21c-cfde23dfbe95"
      },
      "execution_count": null,
      "outputs": [
        {
          "output_type": "stream",
          "name": "stdout",
          "text": [
            "Accuracy: 25.00%\n",
            "              precision    recall  f1-score   support\n",
            "\n",
            "    COVID-19       0.24      0.30      0.27       747\n",
            " Common Cold       0.25      0.28      0.26       733\n",
            "         Flu       0.30      0.22      0.25       759\n",
            "     Healthy       0.22      0.20      0.21       761\n",
            "\n",
            "    accuracy                           0.25      3000\n",
            "   macro avg       0.25      0.25      0.25      3000\n",
            "weighted avg       0.25      0.25      0.25      3000\n",
            "\n",
            "Enter your symptoms (e.g., 'I have fever and cough'): fever, cough\n",
            "Predicted Disease: COVID-19\n"
          ]
        }
      ]
    },
    {
      "cell_type": "markdown",
      "source": [
        "`on adding nlp`"
      ],
      "metadata": {
        "id": "h6shk2K6XdNg"
      }
    },
    {
      "cell_type": "code",
      "source": [
        "import pandas as pd\n",
        "import numpy as np\n",
        "from sklearn.model_selection import train_test_split\n",
        "from sklearn.preprocessing import StandardScaler\n",
        "from sklearn.tree import DecisionTreeClassifier\n",
        "from sklearn.metrics import accuracy_score, classification_report\n",
        "import spacy\n",
        "\n",
        "# Load the spaCy model\n",
        "nlp = spacy.load('en_core_web_sm')\n",
        "\n",
        "# Define the number of rows\n",
        "n_rows = 10000\n",
        "\n",
        "# Define the columns\n",
        "columns = [\"Fever\", \"Cough\", \"Headache\", \"Fatigue\", \"Disease\"]\n",
        "\n",
        "# Ensure balanced classes\n",
        "diseases = [\"COVID-19\", \"Flu\", \"Common Cold\", \"Healthy\"]\n",
        "data = []\n",
        "for disease in diseases:\n",
        "    for _ in range(n_rows // len(diseases)):\n",
        "        data.append([\n",
        "            np.random.choice([1, 0]),  # Fever\n",
        "            np.random.choice([1, 0]),  # Cough\n",
        "            np.random.choice([1, 0]),  # Headache\n",
        "            np.random.choice([1, 0]),  # Fatigue\n",
        "            disease\n",
        "        ])\n",
        "\n",
        "# Create the DataFrame\n",
        "df = pd.DataFrame(data, columns=columns)\n",
        "\n",
        "# Shuffle the data\n",
        "df = df.sample(frac=1).reset_index(drop=True)\n",
        "\n",
        "# Save to CSV\n",
        "df.to_csv(\"medical.csv\", index=False)\n",
        "\n",
        "# Load the dataset\n",
        "df = pd.read_csv('medical.csv')\n",
        "\n",
        "# Split the dataset into features and target variable\n",
        "X = df.drop('Disease', axis=1)  # Features\n",
        "y = df['Disease']  # Target variable\n",
        "\n",
        "# Convert boolean features to integers\n",
        "X = X.astype(int)\n",
        "\n",
        "# Apply standard scaling to the features\n",
        "scaler = StandardScaler()\n",
        "X_scaled = scaler.fit_transform(X)\n",
        "\n",
        "# Split the data into training and testing sets\n",
        "X_train, X_test, y_train, y_test = train_test_split(X_scaled, y, test_size=0.3, random_state=42)\n",
        "\n",
        "# Initialize the Decision Tree Classifier\n",
        "clf = DecisionTreeClassifier()\n",
        "\n",
        "# Train the model\n",
        "clf.fit(X_train, y_train)\n",
        "\n",
        "# Make predictions on the test data\n",
        "y_pred = clf.predict(X_test)\n",
        "\n",
        "# Calculate the accuracy of the model\n",
        "accuracy = accuracy_score(y_test, y_pred)\n",
        "print(f'Accuracy: {accuracy * 100:.2f}%')\n",
        "\n",
        "# Generate a classification report\n",
        "report = classification_report(y_test, y_pred)\n",
        "print(report)\n",
        "\n",
        "def expert_system_rules(symptoms):\n",
        "    # Enhanced rules for better prediction\n",
        "    if symptoms['Fever'] == 1 and symptoms['Cough'] == 1:\n",
        "        return 'COVID-19'\n",
        "    elif symptoms['Cough'] == 1 and symptoms['Fatigue'] == 1:\n",
        "        return 'Flu'\n",
        "    elif symptoms['Cough'] == 1 and symptoms['Headache'] == 1:\n",
        "        return 'Common Cold'\n",
        "    else:\n",
        "        # Use the machine learning model for other predictions\n",
        "        symptoms_df = pd.DataFrame([symptoms])\n",
        "        symptoms_scaled = scaler.transform(symptoms_df)\n",
        "        return clf.predict(symptoms_scaled)[0]\n",
        "\n",
        "def get_symptoms_from_text(input_text):\n",
        "    # Initialize symptoms dictionary\n",
        "    symptoms = {'Fever': 0, 'Cough': 0, 'Headache': 0, 'Fatigue': 0}\n",
        "\n",
        "    # Process the text with spaCy\n",
        "    doc = nlp(input_text.lower())\n",
        "\n",
        "    # Check for presence of symptoms in input text\n",
        "    for token in doc:\n",
        "        if token.text in ['fever', 'cough', 'headache', 'fatigue']:\n",
        "            symptoms[token.text.capitalize()] = 1\n",
        "\n",
        "    return symptoms\n",
        "\n",
        "def predict_disease(input_text):\n",
        "    symptoms = get_symptoms_from_text(input_text)\n",
        "    predicted_disease = expert_system_rules(symptoms)\n",
        "    return predicted_disease\n",
        "\n",
        "if __name__ == \"__main__\":\n",
        "    # Example user input\n",
        "    user_input = input(\"Enter your symptoms (e.g., 'I have fever and cough'): \")\n",
        "\n",
        "    # Predict disease based on user input\n",
        "    predicted_disease = predict_disease(user_input)\n",
        "    print(f'Predicted Disease: {predicted_disease}')\n"
      ],
      "metadata": {
        "colab": {
          "base_uri": "https://localhost:8080/"
        },
        "id": "vIxTjoykXfXo",
        "outputId": "6ce3a00c-9f30-4902-d187-fdf5b22c649a"
      },
      "execution_count": null,
      "outputs": [
        {
          "output_type": "stream",
          "name": "stdout",
          "text": [
            "Accuracy: 25.20%\n",
            "              precision    recall  f1-score   support\n",
            "\n",
            "    COVID-19       0.27      0.20      0.23       755\n",
            " Common Cold       0.25      0.18      0.21       739\n",
            "         Flu       0.25      0.53      0.34       724\n",
            "     Healthy       0.24      0.11      0.16       782\n",
            "\n",
            "    accuracy                           0.25      3000\n",
            "   macro avg       0.25      0.26      0.23      3000\n",
            "weighted avg       0.25      0.25      0.23      3000\n",
            "\n",
            "Enter your symptoms (e.g., 'I have fever and cough'): Fever, Headache\n",
            "Predicted Disease: Flu\n"
          ]
        }
      ]
    },
    {
      "cell_type": "markdown",
      "source": [
        "`Adding recommendation system`"
      ],
      "metadata": {
        "id": "WU08h2X1X2AY"
      }
    },
    {
      "cell_type": "code",
      "source": [
        "import pandas as pd\n",
        "import numpy as np\n",
        "from sklearn.model_selection import train_test_split\n",
        "from sklearn.preprocessing import StandardScaler\n",
        "from sklearn.tree import DecisionTreeClassifier\n",
        "from sklearn.metrics import accuracy_score, classification_report\n",
        "import spacy\n",
        "\n",
        "# Load the spaCy model\n",
        "nlp = spacy.load('en_core_web_sm')\n",
        "\n",
        "# Define the number of rows\n",
        "n_rows = 10000\n",
        "\n",
        "# Define the columns\n",
        "columns = [\"Fever\", \"Cough\", \"Headache\", \"Fatigue\", \"Disease\"]\n",
        "\n",
        "# Ensure balanced classes\n",
        "diseases = [\"COVID-19\", \"Flu\", \"Common Cold\", \"Healthy\"]\n",
        "data = []\n",
        "for disease in diseases:\n",
        "    for _ in range(n_rows // len(diseases)):\n",
        "        data.append([\n",
        "            np.random.choice([1, 0]),  # Fever\n",
        "            np.random.choice([1, 0]),  # Cough\n",
        "            np.random.choice([1, 0]),  # Headache\n",
        "            np.random.choice([1, 0]),  # Fatigue\n",
        "            disease\n",
        "        ])\n",
        "\n",
        "# Create the DataFrame\n",
        "df = pd.DataFrame(data, columns=columns)\n",
        "\n",
        "# Shuffle the data\n",
        "df = df.sample(frac=1).reset_index(drop=True)\n",
        "\n",
        "# Save to CSV\n",
        "df.to_csv(\"medical.csv\", index=False)\n",
        "\n",
        "# Load the dataset\n",
        "df = pd.read_csv('medical.csv')\n",
        "\n",
        "# Split the dataset into features and target variable\n",
        "X = df.drop('Disease', axis=1)  # Features\n",
        "y = df['Disease']  # Target variable\n",
        "\n",
        "# Convert boolean features to integers\n",
        "X = X.astype(int)\n",
        "\n",
        "# Apply standard scaling to the features\n",
        "scaler = StandardScaler()\n",
        "X_scaled = scaler.fit_transform(X)\n",
        "\n",
        "# Split the data into training and testing sets\n",
        "X_train, X_test, y_train, y_test = train_test_split(X_scaled, y, test_size=0.3, random_state=42)\n",
        "\n",
        "# Initialize the Decision Tree Classifier\n",
        "clf = DecisionTreeClassifier()\n",
        "\n",
        "# Train the model\n",
        "clf.fit(X_train, y_train)\n",
        "\n",
        "# Make predictions on the test data\n",
        "y_pred = clf.predict(X_test)\n",
        "\n",
        "# Calculate the accuracy of the model\n",
        "accuracy = accuracy_score(y_test, y_pred)\n",
        "print(f'Accuracy: {accuracy * 100:.2f}%')\n",
        "\n",
        "# Generate a classification report\n",
        "report = classification_report(y_test, y_pred)\n",
        "print(report)\n",
        "\n",
        "# Define recommendations for each disease\n",
        "recommendations = {\n",
        "    \"COVID-19\": \"Please contact your healthcare provider immediately. Follow CDC guidelines for isolation and testing.\",\n",
        "    \"Flu\": \"Rest and hydrate. Over-the-counter medications may help with symptoms. Consult your doctor if symptoms worsen.\",\n",
        "    \"Common Cold\": \"Stay hydrated and get plenty of rest. Over-the-counter medications can alleviate symptoms. Consult your doctor if needed.\",\n",
        "    \"Healthy\": \"You seem to be in good health. Continue to maintain a healthy lifestyle.\"\n",
        "}\n",
        "\n",
        "def expert_system_rules(symptoms):\n",
        "    # Enhanced rules for better prediction\n",
        "    if symptoms['Fever'] == 1 and symptoms['Cough'] == 1:\n",
        "        return 'COVID-19'\n",
        "    elif symptoms['Cough'] == 1 and symptoms['Fatigue'] == 1:\n",
        "        return 'Flu'\n",
        "    elif symptoms['Cough'] == 1 and symptoms['Headache'] == 1:\n",
        "        return 'Common Cold'\n",
        "    else:\n",
        "        # Use the machine learning model for other predictions\n",
        "        symptoms_df = pd.DataFrame([symptoms])\n",
        "        symptoms_scaled = scaler.transform(symptoms_df)\n",
        "        return clf.predict(symptoms_scaled)[0]\n",
        "\n",
        "def get_symptoms_from_text(input_text):\n",
        "    # Initialize symptoms dictionary\n",
        "    symptoms = {'Fever': 0, 'Cough': 0, 'Headache': 0, 'Fatigue': 0}\n",
        "\n",
        "    # Process the text with spaCy\n",
        "    doc = nlp(input_text.lower())\n",
        "\n",
        "    # Check for presence of symptoms in input text\n",
        "    for token in doc:\n",
        "        if token.text in ['fever', 'cough', 'headache', 'fatigue']:\n",
        "            symptoms[token.text.capitalize()] = 1\n",
        "\n",
        "    return symptoms\n",
        "\n",
        "def predict_disease(input_text):\n",
        "    symptoms = get_symptoms_from_text(input_text)\n",
        "    predicted_disease = expert_system_rules(symptoms)\n",
        "    # Retrieve the recommendation based on the predicted disease\n",
        "    recommendation = recommendations.get(predicted_disease, \"No recommendation available.\")\n",
        "    return predicted_disease, recommendation\n",
        "\n",
        "if __name__ == \"__main__\":\n",
        "    # Example user input\n",
        "    user_input = input(\"Enter your symptoms (e.g., 'I have fever and cough'): \")\n",
        "\n",
        "    # Predict disease and get recommendation based on user input\n",
        "    predicted_disease, recommendation = predict_disease(user_input)\n",
        "\n",
        "    # Print results\n",
        "    print(f'Predicted Disease: {predicted_disease}')\n",
        "    print(f'Recommendation: {recommendation}')\n",
        "\n"
      ],
      "metadata": {
        "colab": {
          "base_uri": "https://localhost:8080/"
        },
        "id": "tV5ln6SsX7Z4",
        "outputId": "9575c5ff-c49c-40ee-b4ab-4c309855943d"
      },
      "execution_count": null,
      "outputs": [
        {
          "output_type": "stream",
          "name": "stdout",
          "text": [
            "Accuracy: 24.73%\n",
            "              precision    recall  f1-score   support\n",
            "\n",
            "    COVID-19       0.25      0.18      0.21       774\n",
            " Common Cold       0.24      0.38      0.29       710\n",
            "         Flu       0.28      0.19      0.23       772\n",
            "     Healthy       0.24      0.25      0.24       744\n",
            "\n",
            "    accuracy                           0.25      3000\n",
            "   macro avg       0.25      0.25      0.24      3000\n",
            "weighted avg       0.25      0.25      0.24      3000\n",
            "\n",
            "Enter your symptoms (e.g., 'I have fever and cough'): Fever, Headche\n",
            "Predicted Disease: Common Cold\n",
            "Recommendation: Stay hydrated and get plenty of rest. Over-the-counter medications can alleviate symptoms. Consult your doctor if needed.\n"
          ]
        }
      ]
    },
    {
      "cell_type": "markdown",
      "source": [
        "`load model in pickle`"
      ],
      "metadata": {
        "id": "tGLeNH3EZAx7"
      }
    },
    {
      "cell_type": "code",
      "source": [
        "import pandas as pd\n",
        "import numpy as np\n",
        "from sklearn.model_selection import train_test_split\n",
        "from sklearn.preprocessing import StandardScaler\n",
        "from sklearn.tree import DecisionTreeClassifier\n",
        "from sklearn.metrics import accuracy_score, classification_report\n",
        "import spacy\n",
        "import pickle\n",
        "\n",
        "# Load the spaCy model\n",
        "nlp = spacy.load('en_core_web_sm')\n",
        "\n",
        "# Define the number of rows\n",
        "n_rows = 10000\n",
        "\n",
        "# Define the columns\n",
        "columns = [\"Fever\", \"Cough\", \"Headache\", \"Fatigue\", \"Disease\"]\n",
        "\n",
        "# Ensure balanced classes\n",
        "diseases = [\"COVID-19\", \"Flu\", \"Common Cold\", \"Healthy\"]\n",
        "data = []\n",
        "for disease in diseases:\n",
        "    for _ in range(n_rows // len(diseases)):\n",
        "        data.append([\n",
        "            np.random.choice([1, 0]),  # Fever\n",
        "            np.random.choice([1, 0]),  # Cough\n",
        "            np.random.choice([1, 0]),  # Headache\n",
        "            np.random.choice([1, 0]),  # Fatigue\n",
        "            disease\n",
        "        ])\n",
        "\n",
        "# Create the DataFrame\n",
        "df = pd.DataFrame(data, columns=columns)\n",
        "\n",
        "# Shuffle the data\n",
        "df = df.sample(frac=1).reset_index(drop=True)\n",
        "\n",
        "# Save to CSV\n",
        "df.to_csv(\"medical.csv\", index=False)\n",
        "\n",
        "# Load the dataset\n",
        "df = pd.read_csv('medical.csv')\n",
        "\n",
        "# Split the dataset into features and target variable\n",
        "X = df.drop('Disease', axis=1)  # Features\n",
        "y = df['Disease']  # Target variable\n",
        "\n",
        "# Convert boolean features to integers\n",
        "X = X.astype(int)\n",
        "\n",
        "# Apply standard scaling to the features\n",
        "scaler = StandardScaler()\n",
        "X_scaled = scaler.fit_transform(X)\n",
        "\n",
        "# Split the data into training and testing sets\n",
        "X_train, X_test, y_train, y_test = train_test_split(X_scaled, y, test_size=0.3, random_state=42)\n",
        "\n",
        "# Initialize the Decision Tree Classifier\n",
        "clf = DecisionTreeClassifier()\n",
        "\n",
        "# Train the model\n",
        "clf.fit(X_train, y_train)\n",
        "\n",
        "# Make predictions on the test data\n",
        "y_pred = clf.predict(X_test)\n",
        "\n",
        "# Calculate the accuracy of the model\n",
        "accuracy = accuracy_score(y_test, y_pred)\n",
        "print(f'Accuracy: {accuracy * 100:.2f}%')\n",
        "\n",
        "# Generate a classification report\n",
        "report = classification_report(y_test, y_pred)\n",
        "print(report)\n",
        "\n",
        "# Define recommendations for each disease\n",
        "recommendations = {\n",
        "    \"COVID-19\": \"Please contact your healthcare provider immediately. Follow CDC guidelines for isolation and testing.\",\n",
        "    \"Flu\": \"Rest and hydrate. Over-the-counter medications may help with symptoms. Consult your doctor if symptoms worsen.\",\n",
        "    \"Common Cold\": \"Stay hydrated and get plenty of rest. Over-the-counter medications can alleviate symptoms. Consult your doctor if needed.\",\n",
        "    \"Healthy\": \"You seem to be in good health. Continue to maintain a healthy lifestyle.\"\n",
        "}\n",
        "\n",
        "# Save the trained model and scaler to a pickle file\n",
        "with open('model_and_scaler.pkl', 'wb') as f:\n",
        "    pickle.dump({\n",
        "        'model': clf,\n",
        "        'scaler': scaler\n",
        "    }, f)\n",
        "\n",
        "# Save the recommendations dictionary to a pickle file\n",
        "with open('recommendations.pkl', 'wb') as f:\n",
        "    pickle.dump(recommendations, f)\n",
        "\n",
        "def expert_system_rules(symptoms):\n",
        "    # Enhanced rules for better prediction\n",
        "    if symptoms['Fever'] == 1 and symptoms['Cough'] == 1:\n",
        "        return 'COVID-19'\n",
        "    elif symptoms['Cough'] == 1 and symptoms['Fatigue'] == 1:\n",
        "        return 'Flu'\n",
        "    elif symptoms['Cough'] == 1 and symptoms['Headache'] == 1:\n",
        "        return 'Common Cold'\n",
        "    else:\n",
        "        # Use the machine learning model for other predictions\n",
        "        symptoms_df = pd.DataFrame([symptoms])\n",
        "        symptoms_scaled = scaler.transform(symptoms_df)\n",
        "        return clf.predict(symptoms_scaled)[0]\n",
        "\n",
        "def get_symptoms_from_text(input_text):\n",
        "    # Initialize symptoms dictionary\n",
        "    symptoms = {'Fever': 0, 'Cough': 0, 'Headache': 0, 'Fatigue': 0}\n",
        "\n",
        "    # Process the text with spaCy\n",
        "    doc = nlp(input_text.lower())\n",
        "\n",
        "    # Check for presence of symptoms in input text\n",
        "    for token in doc:\n",
        "        if token.text in ['fever', 'cough', 'headache', 'fatigue']:\n",
        "            symptoms[token.text.capitalize()] = 1\n",
        "\n",
        "    return symptoms\n",
        "\n",
        "def predict_disease(input_text):\n",
        "    symptoms = get_symptoms_from_text(input_text)\n",
        "    predicted_disease = expert_system_rules(symptoms)\n",
        "    # Retrieve the recommendation based on the predicted disease\n",
        "    recommendation = recommendations.get(predicted_disease, \"No recommendation available.\")\n",
        "    return predicted_disease, recommendation\n",
        "\n",
        "if __name__ == \"__main__\":\n",
        "    # Load the model, scaler, and recommendations from pickle files\n",
        "    with open('model_and_scaler.pkl', 'rb') as f:\n",
        "        data = pickle.load(f)\n",
        "        clf = data['model']\n",
        "        scaler = data['scaler']\n",
        "\n",
        "    with open('recommendations.pkl', 'rb') as f:\n",
        "        recommendations = pickle.load(f)\n",
        "\n",
        "    # Example user input\n",
        "    user_input = input(\"Enter your symptoms (e.g., 'I have fever and cough'): \")\n",
        "\n",
        "    # Predict disease and get recommendation based on user input\n",
        "    predicted_disease, recommendation = predict_disease(user_input)\n",
        "\n",
        "    # Print results\n",
        "    print(f'Predicted Disease: {predicted_disease}')\n",
        "    print(f'Recommendation: {recommendation}')\n"
      ],
      "metadata": {
        "colab": {
          "base_uri": "https://localhost:8080/"
        },
        "id": "NZdqFAfHZFDm",
        "outputId": "8f6944a8-f266-4ec7-b7c5-18963341aee3"
      },
      "execution_count": null,
      "outputs": [
        {
          "output_type": "stream",
          "name": "stdout",
          "text": [
            "Accuracy: 25.37%\n",
            "              precision    recall  f1-score   support\n",
            "\n",
            "    COVID-19       0.26      0.13      0.18       769\n",
            " Common Cold       0.26      0.44      0.33       756\n",
            "         Flu       0.24      0.18      0.21       755\n",
            "     Healthy       0.25      0.27      0.26       720\n",
            "\n",
            "    accuracy                           0.25      3000\n",
            "   macro avg       0.25      0.25      0.24      3000\n",
            "weighted avg       0.25      0.25      0.24      3000\n",
            "\n",
            "Enter your symptoms (e.g., 'I have fever and cough'): cough\n",
            "Predicted Disease: Healthy\n",
            "Recommendation: You seem to be in good health. Continue to maintain a healthy lifestyle.\n"
          ]
        }
      ]
    },
    {
      "cell_type": "markdown",
      "source": [
        "# `Rain Prediction fro scretch`"
      ],
      "metadata": {
        "id": "6RO06O68jyPF"
      }
    },
    {
      "cell_type": "markdown",
      "source": [
        "`load model`"
      ],
      "metadata": {
        "id": "p6HxDw84j3sL"
      }
    },
    {
      "cell_type": "code",
      "source": [
        "import pandas as pd\n",
        "import numpy as np\n",
        "from sklearn.model_selection import train_test_split\n",
        "from sklearn.ensemble import RandomForestClassifier\n",
        "from sklearn.preprocessing import StandardScaler\n",
        "from sklearn.metrics import classification_report, accuracy_score\n",
        "import pickle\n"
      ],
      "metadata": {
        "id": "3jcK0NEWxgdt"
      },
      "execution_count": null,
      "outputs": []
    },
    {
      "cell_type": "markdown",
      "source": [
        "`data exploration`"
      ],
      "metadata": {
        "id": "krJKEQVgkE16"
      }
    },
    {
      "cell_type": "code",
      "source": [
        "df = pd.read_csv(\"https://raw.githubusercontent.com/AqueeqAzam/data-science-and-machine-learning-datasets/main/environment.csv\")\n",
        "df.head(5)\n",
        "df.isnull().sum()\n",
        "df.info()"
      ],
      "metadata": {
        "id": "S6ZNbxWJzNnm",
        "colab": {
          "base_uri": "https://localhost:8080/"
        },
        "outputId": "2b96af6b-d5b1-4fb1-92bd-0d232fc21acf"
      },
      "execution_count": null,
      "outputs": [
        {
          "output_type": "stream",
          "name": "stdout",
          "text": [
            "<class 'pandas.core.frame.DataFrame'>\n",
            "RangeIndex: 10000 entries, 0 to 9999\n",
            "Data columns (total 6 columns):\n",
            " #   Column                Non-Null Count  Dtype  \n",
            "---  ------                --------------  -----  \n",
            " 0   temperature           10000 non-null  float64\n",
            " 1   humidity              10000 non-null  float64\n",
            " 2   wind_speed            10000 non-null  float64\n",
            " 3   precipitation         10000 non-null  float64\n",
            " 4   atmospheric_pressure  10000 non-null  float64\n",
            " 5   rain                  10000 non-null  int64  \n",
            "dtypes: float64(5), int64(1)\n",
            "memory usage: 468.9 KB\n"
          ]
        }
      ]
    },
    {
      "cell_type": "markdown",
      "source": [
        "`data processing`"
      ],
      "metadata": {
        "id": "makk1-sGkN-H"
      }
    },
    {
      "cell_type": "code",
      "source": [
        "x = df.drop('rain', axis=1)\n",
        "y = df['rain']\n",
        "\n",
        "# split the data\n",
        "x_train, x_test, y_train, y_test = train_test_split(x, y, test_size=0.2, random_state=42)\n",
        "\n",
        "# initialize the scaler\n",
        "scaler = StandardScaler()\n",
        "x_train_scaled = scaler.fit_transform(x_train)\n",
        "x_test_scaled = scaler.transform(x_test)\n",
        "\n",
        "# model training\n",
        "rfc = RandomForestClassifier(n_estimators=100, random_state=42)\n",
        "rfc.fit(x_train, y_train)\n",
        "\n",
        "# model prediction\n",
        "y_pred = rfc.predict(x_test_scaled)\n",
        "print(y_pred)\n",
        "\n",
        "# model evaluation\n",
        "accuracy = accuracy_score(y_test, y_pred)\n",
        "print(f'Accuracy:, {accuracy*100:.2f}%')\n",
        "\n"
      ],
      "metadata": {
        "colab": {
          "base_uri": "https://localhost:8080/"
        },
        "id": "p73YvU6vzlxC",
        "outputId": "4f910ecd-db24-4030-9378-9fe3f97fe350"
      },
      "execution_count": null,
      "outputs": [
        {
          "output_type": "stream",
          "name": "stdout",
          "text": [
            "[0 0 0 ... 0 0 0]\n",
            "Accuracy:, 69.45%\n"
          ]
        },
        {
          "output_type": "stream",
          "name": "stderr",
          "text": [
            "/usr/local/lib/python3.10/dist-packages/sklearn/base.py:465: UserWarning: X does not have valid feature names, but RandomForestClassifier was fitted with feature names\n",
            "  warnings.warn(\n"
          ]
        }
      ]
    },
    {
      "cell_type": "markdown",
      "source": [
        "`save model`"
      ],
      "metadata": {
        "id": "8mszr8Xvkd8R"
      }
    },
    {
      "cell_type": "code",
      "source": [
        "import pickle\n",
        "with open ('rain_predict.pkl', 'wb') as file:\n",
        "  pickle.dump({'model': rfc, 'scaler': scaler}, file)\n",
        "  print('File created')"
      ],
      "metadata": {
        "colab": {
          "base_uri": "https://localhost:8080/"
        },
        "id": "_oXlged-hMHx",
        "outputId": "dc528d50-5ffe-422f-82a9-863944c84cfd"
      },
      "execution_count": null,
      "outputs": [
        {
          "output_type": "stream",
          "name": "stdout",
          "text": [
            "File created\n"
          ]
        }
      ]
    },
    {
      "cell_type": "markdown",
      "source": [
        "`load model`"
      ],
      "metadata": {
        "id": "JLl2HMexkme1"
      }
    },
    {
      "cell_type": "code",
      "source": [
        "import pickle\n",
        "with open('rain_predict.pkl', 'rb') as file:\n",
        "  saved = pickle.load(file)\n",
        "  model = saved['model']\n",
        "  scaler = saved['scaler']\n"
      ],
      "metadata": {
        "id": "ubbhGYFNiNR0"
      },
      "execution_count": null,
      "outputs": []
    },
    {
      "cell_type": "markdown",
      "source": [
        "`adding user input`"
      ],
      "metadata": {
        "id": "ZdWI98wVkwDe"
      }
    },
    {
      "cell_type": "code",
      "source": [
        "import numpy as np\n",
        "import pickle\n",
        "\n",
        "with open('rain_predict.pkl', 'rb') as file:\n",
        "  saved = pickle.load(file)\n",
        "  model = saved['model']\n",
        "  scaler = saved['scaler']\n",
        "\n",
        "# get user input\n",
        "def get_input():\n",
        "  print('Please enter weather condition:')\n",
        "  temperature = float(input('Temperature:'))\n",
        "  humidity = float(input('Hunidity:'))\n",
        "  wind_speed = float(input('wind speed:'))\n",
        "  precipitation = float(input('Precipation:'))\n",
        "  atp = float(input('ATP:'))\n",
        "\n",
        "  return np.array([[temperature, humidity, wind_speed, precipitation, atp]])\n",
        "\n",
        "def predict_rain(user_input):\n",
        "  user_input_scaled = scaler.transform(user_input)\n",
        "  prediction = model.predict(user_input_scaled)\n",
        "  if prediction[0] == 1:\n",
        "    return \"rain\"\n",
        "  else:\n",
        "    return 'no rain'\n",
        "\n",
        "# Get user input and make a prediction\n",
        "try:\n",
        "    user_input = get_user_input()\n",
        "    result = predict_rain(user_input)\n",
        "    print(f\"Prediction: {result}\")\n",
        "except ValueError as e:\n",
        "    print(e)\n"
      ],
      "metadata": {
        "colab": {
          "base_uri": "https://localhost:8080/"
        },
        "id": "4MxV-3dJkyV2",
        "outputId": "a487b212-11a6-4fa7-c834-f83a6dfa2b93"
      },
      "execution_count": null,
      "outputs": [
        {
          "output_type": "stream",
          "name": "stdout",
          "text": [
            "Please enter weather condition:\n",
            "Temperature:4\n",
            "Hunidity:8\n",
            "wind speed:34\n",
            "Precipation:5.7\n",
            "ATP:700\n",
            "Predict:no rain\n"
          ]
        },
        {
          "output_type": "stream",
          "name": "stderr",
          "text": [
            "/usr/local/lib/python3.10/dist-packages/sklearn/base.py:465: UserWarning: X does not have valid feature names, but StandardScaler was fitted with feature names\n",
            "  warnings.warn(\n",
            "/usr/local/lib/python3.10/dist-packages/sklearn/base.py:465: UserWarning: X does not have valid feature names, but RandomForestClassifier was fitted with feature names\n",
            "  warnings.warn(\n"
          ]
        }
      ]
    },
    {
      "cell_type": "markdown",
      "source": [
        "`adding expert system`"
      ],
      "metadata": {
        "id": "w0nhVPaItRz4"
      }
    },
    {
      "cell_type": "code",
      "source": [
        "import pickle\n",
        "import numpy as np\n",
        "\n",
        "with open('rain_predict.pkl', 'rb') as file:\n",
        "  saved = pickle.load(file)\n",
        "  model = saved['model']\n",
        "  scaler = saved['scaler']\n",
        "\n",
        "# expert system code\n",
        "def expert_system(ml_prediction, user_input):\n",
        "\n",
        "  # user_input[0]: Accesses the first (and only) row of the input array, which contains the weather condition values.\n",
        "  temperature, humidity, wind_speed, precipitation, atp = user_input[0]\n",
        "\n",
        "  if temperature > 25 and humidity < 60:\n",
        "    return 'no rain'\n",
        "\n",
        "  if wind_speed > 20 and precipitation < 5:\n",
        "      return \"No Rain\"\n",
        "\n",
        "    # Rule 3: If atmospheric pressure is low, override ML prediction to \"Rain\"\n",
        "  if atp < 1000:\n",
        "      return \"Rain\"\n",
        "\n",
        "    # Rule 4: If precipitation is high and humidity is high, override ML prediction to \"Rain\"\n",
        "  if precipitation > 10 and humidity > 80:\n",
        "      return \"Rain\"\n",
        "\n",
        "    # Rule 5: If temperature is low and wind speed is low, override ML prediction to \"No Rain\"\n",
        "  if temperature < 15 and wind_speed < 10:\n",
        "      return \"No Rain\"\n",
        "\n",
        "    # Default to ML prediction\n",
        "  return \"Rain\" if ml_prediction > 0.5 else \"No Rain\"\n",
        "\n",
        "# Get user input\n",
        "def get_user_input():\n",
        "    print(\"Please enter the following weather conditions:\")\n",
        "    temperature = float(input(\"Temperature (°C): \"))\n",
        "    humidity = float(input(\"Humidity (%): \"))\n",
        "    wind_speed = float(input(\"Wind Speed (km/h): \"))\n",
        "    precipitation = float(input(\"Precipitation (mm): \"))\n",
        "    atmospheric_pressure = float(input(\"Atmospheric Pressure (hPa): \"))\n",
        "\n",
        "    return np.array([[temperature, humidity, wind_speed, precipitation, atmospheric_pressure]])\n",
        "\n",
        "def predict_rain(user_input):\n",
        "  user_input_scaled = scaler.transform(user_input)\n",
        "  ml_prediction = model.predict(user_input_scaled)[0]\n",
        "  final_prediction = expert_system(ml_prediction, user_input)\n",
        "  return final_prediction\n",
        "\n",
        "\n",
        "# Get user input and make a prediction\n",
        "try:\n",
        "    user_input = get_user_input()\n",
        "    result = predict_rain(user_input)\n",
        "    print(f\"Prediction: {result}\")\n",
        "except ValueError as e:\n",
        "    print(e)"
      ],
      "metadata": {
        "id": "XizJJ5UBtVFB",
        "colab": {
          "base_uri": "https://localhost:8080/"
        },
        "outputId": "e594c8d1-1286-46c8-a461-d995fa13f6c1"
      },
      "execution_count": null,
      "outputs": [
        {
          "output_type": "stream",
          "name": "stdout",
          "text": [
            "Please enter the following weather conditions:\n",
            "Temperature (°C): 23\n",
            "Humidity (%): 34\n",
            "Wind Speed (km/h): 55\n",
            "Precipitation (mm): 8.0\n",
            "Atmospheric Pressure (hPa): 10\n",
            "Prediction: Rain\n"
          ]
        },
        {
          "output_type": "stream",
          "name": "stderr",
          "text": [
            "/usr/local/lib/python3.10/dist-packages/sklearn/base.py:465: UserWarning: X does not have valid feature names, but StandardScaler was fitted with feature names\n",
            "  warnings.warn(\n",
            "/usr/local/lib/python3.10/dist-packages/sklearn/base.py:465: UserWarning: X does not have valid feature names, but RandomForestClassifier was fitted with feature names\n",
            "  warnings.warn(\n"
          ]
        }
      ]
    },
    {
      "cell_type": "markdown",
      "source": [
        "`adding nlp`"
      ],
      "metadata": {
        "id": "uy-aUjXvyLSJ"
      }
    },
    {
      "cell_type": "code",
      "source": [
        "import spacy\n",
        "\n",
        "# Load spaCy model\n",
        "nlp = spacy.load(\"en_core_web_sm\")\n",
        "\n",
        "def extract_number(text):\n",
        "    doc = nlp(text)\n",
        "    for token in doc:\n",
        "        if token.like_num:\n",
        "            return float(token.text)\n",
        "    raise ValueError(\"No numerical value found in the input.\")\n",
        "\n",
        "# Example usage\n",
        "user_input = input('Enter temperature:')\n",
        "number = extract_number(user_input)\n",
        "print(number)  # Output: 25.0\n"
      ],
      "metadata": {
        "colab": {
          "base_uri": "https://localhost:8080/"
        },
        "id": "NskYnSOezwsj",
        "outputId": "4a1963ec-0f0a-43a9-f064-48879df8be95"
      },
      "execution_count": null,
      "outputs": [
        {
          "output_type": "stream",
          "name": "stdout",
          "text": [
            "Enter temperature:34 degeree\n",
            "34.0\n"
          ]
        }
      ]
    },
    {
      "cell_type": "code",
      "source": [
        "import pickle\n",
        "import numpy as np\n",
        "import spacy\n",
        "\n",
        "# Load spaCy model\n",
        "nlp = spacy.load(\"en_core_web_sm\")\n",
        "\n",
        "# Load the model and scaler for prediction\n",
        "with open('rain_prediction_model.pkl', 'rb') as file:\n",
        "    saved_objects = pickle.load(file)\n",
        "    model = saved_objects['model']\n",
        "    scaler = saved_objects['scaler']\n",
        "\n",
        "def expert_system_rules(ml_prediction, user_input):\n",
        "    temperature, humidity, wind_speed, precipitation, atmospheric_pressure = user_input[0]\n",
        "\n",
        "    if temperature > 25 and humidity < 60:\n",
        "        return \"No Rain\"\n",
        "    if wind_speed > 20 and precipitation < 5:\n",
        "        return \"No Rain\"\n",
        "    if atmospheric_pressure < 1000:\n",
        "        return \"Rain\"\n",
        "    if precipitation > 10 and humidity > 80:\n",
        "        return \"Rain\"\n",
        "    if temperature < 15 and wind_speed < 10:\n",
        "        return \"No Rain\"\n",
        "\n",
        "    return \"Rain\" if ml_prediction > 0.5 else \"No Rain\"\n",
        "\n",
        "def extract_numbers(text):\n",
        "    doc = nlp(text)\n",
        "    numbers = [float(token.text) for token in doc if token.like_num]\n",
        "    if not numbers:\n",
        "        raise ValueError(\"No numerical values found in the input.\")\n",
        "    return numbers\n",
        "\n",
        "def get_user_input():\n",
        "    print(\"Please enter the following weather conditions (you can type in sentences):\")\n",
        "    temperature = extract_number(input(\"Temperature (°C): \"))\n",
        "    humidity = extract_number(input(\"Humidity (%): \"))\n",
        "    wind_speed = extract_number(input(\"Wind Speed (km/h): \"))\n",
        "    precipitation = extract_number(input(\"Precipitation (mm): \"))\n",
        "    atmospheric_pressure = extract_number(input(\"Atmospheric Pressure (hPa): \"))\n",
        "\n",
        "    return np.array([[temperature, humidity, wind_speed, precipitation, atmospheric_pressure]])\n",
        "\n",
        "def predict_rain(user_input):\n",
        "    user_input_scaled = scaler.transform(user_input)\n",
        "    ml_prediction = model.predict(user_input_scaled)[0]\n",
        "    return expert_system_rules(ml_prediction, user_input)\n",
        "\n",
        "# Get user input and make a prediction\n",
        "try:\n",
        "    user_input = get_user_input()\n",
        "    result = predict_rain(user_input)\n",
        "    print(f\"Prediction: {result}\")\n",
        "except ValueError as e:\n",
        "    print(e)"
      ],
      "metadata": {
        "id": "P_d-cWmEyNgN"
      },
      "execution_count": null,
      "outputs": []
    }
  ]
}